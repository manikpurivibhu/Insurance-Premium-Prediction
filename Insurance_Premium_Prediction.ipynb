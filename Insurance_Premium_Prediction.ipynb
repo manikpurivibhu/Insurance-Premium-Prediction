{
 "cells": [
  {
   "cell_type": "markdown",
   "id": "84e3a9b9",
   "metadata": {},
   "source": [
    "### import libraries"
   ]
  },
  {
   "cell_type": "code",
   "execution_count": 1,
   "id": "171c1ce4",
   "metadata": {},
   "outputs": [],
   "source": [
    "import numpy as np\n",
    "import pandas as pd\n",
    "import matplotlib.pyplot as plt\n",
    "import seaborn as sns\n",
    "import re\n",
    "\n",
    "from sklearn.preprocessing import PolynomialFeatures\n",
    "from sklearn.preprocessing import RobustScaler\n",
    "from sklearn.preprocessing import PolynomialFeatures\n",
    "from sklearn.preprocessing import RobustScaler\n",
    "from sklearn.preprocessing import OneHotEncoder\n",
    "from sklearn.preprocessing import LabelEncoder\n",
    "from sklearn.model_selection import train_test_split\n",
    "from sklearn.model_selection import cross_val_score\n",
    "from sklearn.compose import ColumnTransformer\n",
    "from sklearn.linear_model import LinearRegression\n",
    "from sklearn.linear_model import Ridge\n",
    "from sklearn.model_selection import GridSearchCV\n",
    "from sklearn.model_selection import RepeatedKFold\n",
    "from sklearn.metrics import mean_squared_error\n",
    "from sklearn.metrics import r2_score\n",
    "from sklearn.svm import SVR  \n",
    "\n",
    "from scipy import stats\n",
    "\n",
    "import pickle\n",
    "\n",
    "%matplotlib inline"
   ]
  },
  {
   "cell_type": "markdown",
   "id": "8026771d",
   "metadata": {},
   "source": [
    "### import dataset\n",
    "\n",
    "The `insurance.csv` dataset contains 17436 observations (rows) and 7 features (columns). <br>\n",
    "The dataset contains 4 numerical features (age, bmi, children and expenses) and 3 nominal features (sex, smoker and region)"
   ]
  },
  {
   "cell_type": "code",
   "execution_count": 2,
   "id": "b0fae6a3",
   "metadata": {},
   "outputs": [],
   "source": [
    "data = pd.read_csv('insurance.csv')"
   ]
  },
  {
   "cell_type": "markdown",
   "id": "471040c1",
   "metadata": {},
   "source": [
    "## Data Exploration"
   ]
  },
  {
   "cell_type": "code",
   "execution_count": 3,
   "id": "5e939745",
   "metadata": {},
   "outputs": [
    {
     "data": {
      "text/html": [
       "<div>\n",
       "<style scoped>\n",
       "    .dataframe tbody tr th:only-of-type {\n",
       "        vertical-align: middle;\n",
       "    }\n",
       "\n",
       "    .dataframe tbody tr th {\n",
       "        vertical-align: top;\n",
       "    }\n",
       "\n",
       "    .dataframe thead th {\n",
       "        text-align: right;\n",
       "    }\n",
       "</style>\n",
       "<table border=\"1\" class=\"dataframe\">\n",
       "  <thead>\n",
       "    <tr style=\"text-align: right;\">\n",
       "      <th></th>\n",
       "      <th>age</th>\n",
       "      <th>sex</th>\n",
       "      <th>bmi</th>\n",
       "      <th>children</th>\n",
       "      <th>smoker</th>\n",
       "      <th>region</th>\n",
       "      <th>expenses</th>\n",
       "    </tr>\n",
       "  </thead>\n",
       "  <tbody>\n",
       "    <tr>\n",
       "      <th>0</th>\n",
       "      <td>19</td>\n",
       "      <td>female</td>\n",
       "      <td>27.9</td>\n",
       "      <td>0</td>\n",
       "      <td>yes</td>\n",
       "      <td>southwest</td>\n",
       "      <td>16884.92</td>\n",
       "    </tr>\n",
       "    <tr>\n",
       "      <th>1</th>\n",
       "      <td>18</td>\n",
       "      <td>male</td>\n",
       "      <td>33.8</td>\n",
       "      <td>1</td>\n",
       "      <td>no</td>\n",
       "      <td>southeast</td>\n",
       "      <td>1725.55</td>\n",
       "    </tr>\n",
       "    <tr>\n",
       "      <th>2</th>\n",
       "      <td>28</td>\n",
       "      <td>male</td>\n",
       "      <td>33.0</td>\n",
       "      <td>3</td>\n",
       "      <td>no</td>\n",
       "      <td>southeast</td>\n",
       "      <td>4449.46</td>\n",
       "    </tr>\n",
       "    <tr>\n",
       "      <th>3</th>\n",
       "      <td>33</td>\n",
       "      <td>male</td>\n",
       "      <td>22.7</td>\n",
       "      <td>0</td>\n",
       "      <td>no</td>\n",
       "      <td>northwest</td>\n",
       "      <td>21984.47</td>\n",
       "    </tr>\n",
       "  </tbody>\n",
       "</table>\n",
       "</div>"
      ],
      "text/plain": [
       "   age     sex   bmi  children smoker     region  expenses\n",
       "0   19  female  27.9         0    yes  southwest  16884.92\n",
       "1   18    male  33.8         1     no  southeast   1725.55\n",
       "2   28    male  33.0         3     no  southeast   4449.46\n",
       "3   33    male  22.7         0     no  northwest  21984.47"
      ]
     },
     "execution_count": 3,
     "metadata": {},
     "output_type": "execute_result"
    }
   ],
   "source": [
    "data.head(4)"
   ]
  },
  {
   "cell_type": "code",
   "execution_count": 4,
   "id": "dba86382",
   "metadata": {},
   "outputs": [
    {
     "data": {
      "text/html": [
       "<div>\n",
       "<style scoped>\n",
       "    .dataframe tbody tr th:only-of-type {\n",
       "        vertical-align: middle;\n",
       "    }\n",
       "\n",
       "    .dataframe tbody tr th {\n",
       "        vertical-align: top;\n",
       "    }\n",
       "\n",
       "    .dataframe thead th {\n",
       "        text-align: right;\n",
       "    }\n",
       "</style>\n",
       "<table border=\"1\" class=\"dataframe\">\n",
       "  <thead>\n",
       "    <tr style=\"text-align: right;\">\n",
       "      <th></th>\n",
       "      <th>age</th>\n",
       "      <th>sex</th>\n",
       "      <th>bmi</th>\n",
       "      <th>children</th>\n",
       "      <th>smoker</th>\n",
       "      <th>region</th>\n",
       "      <th>expenses</th>\n",
       "    </tr>\n",
       "  </thead>\n",
       "  <tbody>\n",
       "    <tr>\n",
       "      <th>17432</th>\n",
       "      <td>60</td>\n",
       "      <td>female</td>\n",
       "      <td>18.3</td>\n",
       "      <td>0</td>\n",
       "      <td>no</td>\n",
       "      <td>northeast</td>\n",
       "      <td>13204.29</td>\n",
       "    </tr>\n",
       "    <tr>\n",
       "      <th>17433</th>\n",
       "      <td>26</td>\n",
       "      <td>female</td>\n",
       "      <td>22.2</td>\n",
       "      <td>0</td>\n",
       "      <td>no</td>\n",
       "      <td>northwest</td>\n",
       "      <td>3176.29</td>\n",
       "    </tr>\n",
       "    <tr>\n",
       "      <th>17434</th>\n",
       "      <td>23</td>\n",
       "      <td>male</td>\n",
       "      <td>27.4</td>\n",
       "      <td>1</td>\n",
       "      <td>no</td>\n",
       "      <td>northwest</td>\n",
       "      <td>2789.06</td>\n",
       "    </tr>\n",
       "    <tr>\n",
       "      <th>17435</th>\n",
       "      <td>62</td>\n",
       "      <td>male</td>\n",
       "      <td>21.4</td>\n",
       "      <td>0</td>\n",
       "      <td>no</td>\n",
       "      <td>southwest</td>\n",
       "      <td>12957.12</td>\n",
       "    </tr>\n",
       "  </tbody>\n",
       "</table>\n",
       "</div>"
      ],
      "text/plain": [
       "       age     sex   bmi  children smoker     region  expenses\n",
       "17432   60  female  18.3         0     no  northeast  13204.29\n",
       "17433   26  female  22.2         0     no  northwest   3176.29\n",
       "17434   23    male  27.4         1     no  northwest   2789.06\n",
       "17435   62    male  21.4         0     no  southwest  12957.12"
      ]
     },
     "execution_count": 4,
     "metadata": {},
     "output_type": "execute_result"
    }
   ],
   "source": [
    "data.tail(4)"
   ]
  },
  {
   "cell_type": "code",
   "execution_count": 5,
   "id": "31109a6a",
   "metadata": {},
   "outputs": [
    {
     "data": {
      "text/html": [
       "<div>\n",
       "<style scoped>\n",
       "    .dataframe tbody tr th:only-of-type {\n",
       "        vertical-align: middle;\n",
       "    }\n",
       "\n",
       "    .dataframe tbody tr th {\n",
       "        vertical-align: top;\n",
       "    }\n",
       "\n",
       "    .dataframe thead th {\n",
       "        text-align: right;\n",
       "    }\n",
       "</style>\n",
       "<table border=\"1\" class=\"dataframe\">\n",
       "  <thead>\n",
       "    <tr style=\"text-align: right;\">\n",
       "      <th></th>\n",
       "      <th>age</th>\n",
       "      <th>sex</th>\n",
       "      <th>bmi</th>\n",
       "      <th>children</th>\n",
       "      <th>smoker</th>\n",
       "      <th>region</th>\n",
       "      <th>expenses</th>\n",
       "    </tr>\n",
       "  </thead>\n",
       "  <tbody>\n",
       "    <tr>\n",
       "      <th>1423</th>\n",
       "      <td>19</td>\n",
       "      <td>female</td>\n",
       "      <td>23.4</td>\n",
       "      <td>2</td>\n",
       "      <td>no</td>\n",
       "      <td>southwest</td>\n",
       "      <td>2913.57</td>\n",
       "    </tr>\n",
       "    <tr>\n",
       "      <th>11961</th>\n",
       "      <td>44</td>\n",
       "      <td>female</td>\n",
       "      <td>26.4</td>\n",
       "      <td>0</td>\n",
       "      <td>no</td>\n",
       "      <td>northwest</td>\n",
       "      <td>7419.48</td>\n",
       "    </tr>\n",
       "    <tr>\n",
       "      <th>7084</th>\n",
       "      <td>59</td>\n",
       "      <td>male</td>\n",
       "      <td>28.8</td>\n",
       "      <td>0</td>\n",
       "      <td>no</td>\n",
       "      <td>northwest</td>\n",
       "      <td>12129.61</td>\n",
       "    </tr>\n",
       "    <tr>\n",
       "      <th>15086</th>\n",
       "      <td>44</td>\n",
       "      <td>female</td>\n",
       "      <td>29.8</td>\n",
       "      <td>2</td>\n",
       "      <td>no</td>\n",
       "      <td>southeast</td>\n",
       "      <td>8219.20</td>\n",
       "    </tr>\n",
       "    <tr>\n",
       "      <th>9692</th>\n",
       "      <td>30</td>\n",
       "      <td>male</td>\n",
       "      <td>27.6</td>\n",
       "      <td>1</td>\n",
       "      <td>no</td>\n",
       "      <td>northeast</td>\n",
       "      <td>4237.13</td>\n",
       "    </tr>\n",
       "  </tbody>\n",
       "</table>\n",
       "</div>"
      ],
      "text/plain": [
       "       age     sex   bmi  children smoker     region  expenses\n",
       "1423    19  female  23.4         2     no  southwest   2913.57\n",
       "11961   44  female  26.4         0     no  northwest   7419.48\n",
       "7084    59    male  28.8         0     no  northwest  12129.61\n",
       "15086   44  female  29.8         2     no  southeast   8219.20\n",
       "9692    30    male  27.6         1     no  northeast   4237.13"
      ]
     },
     "execution_count": 5,
     "metadata": {},
     "output_type": "execute_result"
    }
   ],
   "source": [
    "data.sample(5)"
   ]
  },
  {
   "cell_type": "code",
   "execution_count": 6,
   "id": "9b0e908a",
   "metadata": {},
   "outputs": [
    {
     "data": {
      "text/plain": [
       "Index(['age', 'sex', 'bmi', 'children', 'smoker', 'region', 'expenses'], dtype='object')"
      ]
     },
     "execution_count": 6,
     "metadata": {},
     "output_type": "execute_result"
    }
   ],
   "source": [
    "data.columns"
   ]
  },
  {
   "cell_type": "markdown",
   "id": "219b5895",
   "metadata": {},
   "source": [
    " "
   ]
  },
  {
   "cell_type": "markdown",
   "id": "68590b08",
   "metadata": {},
   "source": [
    "### Exploratory Data  Analysis"
   ]
  },
  {
   "cell_type": "code",
   "execution_count": 7,
   "id": "d8602462",
   "metadata": {},
   "outputs": [
    {
     "name": "stdout",
     "output_type": "stream",
     "text": [
      "<class 'pandas.core.frame.DataFrame'>\n",
      "RangeIndex: 17436 entries, 0 to 17435\n",
      "Data columns (total 7 columns):\n",
      " #   Column    Non-Null Count  Dtype  \n",
      "---  ------    --------------  -----  \n",
      " 0   age       17436 non-null  int64  \n",
      " 1   sex       17436 non-null  object \n",
      " 2   bmi       17436 non-null  float64\n",
      " 3   children  17436 non-null  int64  \n",
      " 4   smoker    17436 non-null  object \n",
      " 5   region    17436 non-null  object \n",
      " 6   expenses  17436 non-null  float64\n",
      "dtypes: float64(2), int64(2), object(3)\n",
      "memory usage: 953.7+ KB\n"
     ]
    }
   ],
   "source": [
    "data.info()"
   ]
  },
  {
   "cell_type": "code",
   "execution_count": 8,
   "id": "5f38253d",
   "metadata": {
    "scrolled": true
   },
   "outputs": [
    {
     "data": {
      "text/html": [
       "<div>\n",
       "<style scoped>\n",
       "    .dataframe tbody tr th:only-of-type {\n",
       "        vertical-align: middle;\n",
       "    }\n",
       "\n",
       "    .dataframe tbody tr th {\n",
       "        vertical-align: top;\n",
       "    }\n",
       "\n",
       "    .dataframe thead th {\n",
       "        text-align: right;\n",
       "    }\n",
       "</style>\n",
       "<table border=\"1\" class=\"dataframe\">\n",
       "  <thead>\n",
       "    <tr style=\"text-align: right;\">\n",
       "      <th></th>\n",
       "      <th>age</th>\n",
       "      <th>bmi</th>\n",
       "      <th>children</th>\n",
       "      <th>expenses</th>\n",
       "    </tr>\n",
       "  </thead>\n",
       "  <tbody>\n",
       "    <tr>\n",
       "      <th>count</th>\n",
       "      <td>17436.000000</td>\n",
       "      <td>17436.000000</td>\n",
       "      <td>17436.000000</td>\n",
       "      <td>17436.000000</td>\n",
       "    </tr>\n",
       "    <tr>\n",
       "      <th>mean</th>\n",
       "      <td>39.240594</td>\n",
       "      <td>30.668192</td>\n",
       "      <td>1.099851</td>\n",
       "      <td>13317.751637</td>\n",
       "    </tr>\n",
       "    <tr>\n",
       "      <th>std</th>\n",
       "      <td>14.127044</td>\n",
       "      <td>6.053742</td>\n",
       "      <td>1.202692</td>\n",
       "      <td>12139.935529</td>\n",
       "    </tr>\n",
       "    <tr>\n",
       "      <th>min</th>\n",
       "      <td>18.000000</td>\n",
       "      <td>16.000000</td>\n",
       "      <td>0.000000</td>\n",
       "      <td>1121.870000</td>\n",
       "    </tr>\n",
       "    <tr>\n",
       "      <th>25%</th>\n",
       "      <td>26.000000</td>\n",
       "      <td>26.300000</td>\n",
       "      <td>0.000000</td>\n",
       "      <td>4746.340000</td>\n",
       "    </tr>\n",
       "    <tr>\n",
       "      <th>50%</th>\n",
       "      <td>39.000000</td>\n",
       "      <td>30.400000</td>\n",
       "      <td>1.000000</td>\n",
       "      <td>9447.380000</td>\n",
       "    </tr>\n",
       "    <tr>\n",
       "      <th>75%</th>\n",
       "      <td>51.000000</td>\n",
       "      <td>34.800000</td>\n",
       "      <td>2.000000</td>\n",
       "      <td>16657.720000</td>\n",
       "    </tr>\n",
       "    <tr>\n",
       "      <th>max</th>\n",
       "      <td>64.000000</td>\n",
       "      <td>53.100000</td>\n",
       "      <td>5.000000</td>\n",
       "      <td>63770.430000</td>\n",
       "    </tr>\n",
       "  </tbody>\n",
       "</table>\n",
       "</div>"
      ],
      "text/plain": [
       "                age           bmi      children      expenses\n",
       "count  17436.000000  17436.000000  17436.000000  17436.000000\n",
       "mean      39.240594     30.668192      1.099851  13317.751637\n",
       "std       14.127044      6.053742      1.202692  12139.935529\n",
       "min       18.000000     16.000000      0.000000   1121.870000\n",
       "25%       26.000000     26.300000      0.000000   4746.340000\n",
       "50%       39.000000     30.400000      1.000000   9447.380000\n",
       "75%       51.000000     34.800000      2.000000  16657.720000\n",
       "max       64.000000     53.100000      5.000000  63770.430000"
      ]
     },
     "execution_count": 8,
     "metadata": {},
     "output_type": "execute_result"
    }
   ],
   "source": [
    "data.describe()"
   ]
  },
  {
   "cell_type": "markdown",
   "id": "a6241362",
   "metadata": {},
   "source": [
    "## Data Cleaning\n",
    "Check for NaN values in the dataset"
   ]
  },
  {
   "cell_type": "code",
   "execution_count": 9,
   "id": "d2aa9c38",
   "metadata": {},
   "outputs": [
    {
     "data": {
      "text/plain": [
       "age         0\n",
       "sex         0\n",
       "bmi         0\n",
       "children    0\n",
       "smoker      0\n",
       "region      0\n",
       "expenses    0\n",
       "dtype: int64"
      ]
     },
     "execution_count": 9,
     "metadata": {},
     "output_type": "execute_result"
    }
   ],
   "source": [
    "data.isnull().sum()"
   ]
  },
  {
   "cell_type": "markdown",
   "id": "f7447651",
   "metadata": {},
   "source": [
    "columns and their contents"
   ]
  },
  {
   "cell_type": "code",
   "execution_count": 10,
   "id": "8a4ce62b",
   "metadata": {},
   "outputs": [
    {
     "name": "stdout",
     "output_type": "stream",
     "text": [
      "age : 47\n",
      "sex : ['female' 'male']\n",
      "bmi : 275\n",
      "children : 6\n",
      "smoker : ['yes' 'no']\n",
      "region : ['southwest' 'southeast' 'northwest' 'northeast']\n",
      "expenses : 1337\n"
     ]
    }
   ],
   "source": [
    "for col in data.columns:\n",
    "    if data[col].dtype == 'object':\n",
    "        print(col, ':', data[col].unique())\n",
    "    else:\n",
    "        print(col, ':', data[col].nunique())"
   ]
  },
  {
   "cell_type": "markdown",
   "id": "69a1af50",
   "metadata": {},
   "source": [
    "## Feature Engineering"
   ]
  },
  {
   "cell_type": "markdown",
   "id": "1355b181",
   "metadata": {},
   "source": [
    "### Binning"
   ]
  },
  {
   "cell_type": "code",
   "execution_count": 11,
   "id": "9edb110d",
   "metadata": {},
   "outputs": [],
   "source": [
    "bins = [0.0, 18.5, 24.9, 29.9, 60]\n",
    "labels = ['Underweight', 'Normal', 'Overweight', 'Obese']\n",
    "data['bmi_cat'] = pd.cut(data['bmi'], bins, labels=labels)"
   ]
  },
  {
   "cell_type": "markdown",
   "id": "f78c4fc0",
   "metadata": {},
   "source": [
    "### Categorical to Numerical Encoding"
   ]
  },
  {
   "cell_type": "code",
   "execution_count": 12,
   "id": "c22e4f25",
   "metadata": {},
   "outputs": [],
   "source": [
    "le = LabelEncoder()\n",
    "\n",
    "data['children'] = le.fit_transform(data['children'])\n",
    "data['smoker'] = le.fit_transform(data['smoker'])"
   ]
  },
  {
   "cell_type": "code",
   "execution_count": 13,
   "id": "0e79a0d7",
   "metadata": {},
   "outputs": [],
   "source": [
    "ohe = OneHotEncoder() \n",
    "\n",
    "data['sex'] = ohe.fit_transform(data[['sex']]).toarray()\n",
    "\n",
    "regional_area = pd.DataFrame(ohe.fit_transform(data[['region']]).toarray(), columns = ['NE', 'NW', 'SE', 'SW'])"
   ]
  },
  {
   "cell_type": "code",
   "execution_count": 14,
   "id": "331301fe",
   "metadata": {},
   "outputs": [],
   "source": [
    "bmi_bins = pd.DataFrame(ohe.fit_transform(data[['bmi_cat']]).toarray(), \n",
    "                        columns= ['Normal', 'Obese', 'Overweight', 'Underweight'])"
   ]
  },
  {
   "cell_type": "code",
   "execution_count": 15,
   "id": "002eb0e7",
   "metadata": {},
   "outputs": [],
   "source": [
    "data = pd.concat([ data.iloc[:,:2], data.iloc[:,7:8], bmi_bins, data.iloc[:,3:6], regional_area, data.iloc[:,-2:-1]], axis=1)"
   ]
  },
  {
   "cell_type": "markdown",
   "id": "011618e2",
   "metadata": {},
   "source": [
    " "
   ]
  },
  {
   "cell_type": "markdown",
   "id": "006f3cfd",
   "metadata": {},
   "source": [
    "## Analytics and Visualization"
   ]
  },
  {
   "cell_type": "code",
   "execution_count": 16,
   "id": "ec4b06c8",
   "metadata": {},
   "outputs": [
    {
     "data": {
      "text/html": [
       "<div>\n",
       "<style scoped>\n",
       "    .dataframe tbody tr th:only-of-type {\n",
       "        vertical-align: middle;\n",
       "    }\n",
       "\n",
       "    .dataframe tbody tr th {\n",
       "        vertical-align: top;\n",
       "    }\n",
       "\n",
       "    .dataframe thead th {\n",
       "        text-align: right;\n",
       "    }\n",
       "</style>\n",
       "<table border=\"1\" class=\"dataframe\">\n",
       "  <thead>\n",
       "    <tr style=\"text-align: right;\">\n",
       "      <th></th>\n",
       "      <th>age</th>\n",
       "      <th>sex</th>\n",
       "      <th>bmi_cat</th>\n",
       "      <th>Normal</th>\n",
       "      <th>Obese</th>\n",
       "      <th>Overweight</th>\n",
       "      <th>Underweight</th>\n",
       "      <th>children</th>\n",
       "      <th>smoker</th>\n",
       "      <th>region</th>\n",
       "      <th>NE</th>\n",
       "      <th>NW</th>\n",
       "      <th>SE</th>\n",
       "      <th>SW</th>\n",
       "      <th>expenses</th>\n",
       "    </tr>\n",
       "  </thead>\n",
       "  <tbody>\n",
       "    <tr>\n",
       "      <th>3112</th>\n",
       "      <td>59</td>\n",
       "      <td>1.0</td>\n",
       "      <td>Normal</td>\n",
       "      <td>1.0</td>\n",
       "      <td>0.0</td>\n",
       "      <td>0.0</td>\n",
       "      <td>0.0</td>\n",
       "      <td>0</td>\n",
       "      <td>1</td>\n",
       "      <td>northwest</td>\n",
       "      <td>0.0</td>\n",
       "      <td>1.0</td>\n",
       "      <td>0.0</td>\n",
       "      <td>0.0</td>\n",
       "      <td>25678.78</td>\n",
       "    </tr>\n",
       "    <tr>\n",
       "      <th>11877</th>\n",
       "      <td>18</td>\n",
       "      <td>0.0</td>\n",
       "      <td>Overweight</td>\n",
       "      <td>0.0</td>\n",
       "      <td>0.0</td>\n",
       "      <td>1.0</td>\n",
       "      <td>0.0</td>\n",
       "      <td>1</td>\n",
       "      <td>0</td>\n",
       "      <td>southeast</td>\n",
       "      <td>0.0</td>\n",
       "      <td>0.0</td>\n",
       "      <td>1.0</td>\n",
       "      <td>0.0</td>\n",
       "      <td>1719.44</td>\n",
       "    </tr>\n",
       "    <tr>\n",
       "      <th>17354</th>\n",
       "      <td>63</td>\n",
       "      <td>1.0</td>\n",
       "      <td>Normal</td>\n",
       "      <td>1.0</td>\n",
       "      <td>0.0</td>\n",
       "      <td>0.0</td>\n",
       "      <td>0.0</td>\n",
       "      <td>0</td>\n",
       "      <td>0</td>\n",
       "      <td>northeast</td>\n",
       "      <td>1.0</td>\n",
       "      <td>0.0</td>\n",
       "      <td>0.0</td>\n",
       "      <td>0.0</td>\n",
       "      <td>14449.85</td>\n",
       "    </tr>\n",
       "  </tbody>\n",
       "</table>\n",
       "</div>"
      ],
      "text/plain": [
       "       age  sex     bmi_cat  Normal  Obese  Overweight  Underweight  children  \\\n",
       "3112    59  1.0      Normal     1.0    0.0         0.0          0.0         0   \n",
       "11877   18  0.0  Overweight     0.0    0.0         1.0          0.0         1   \n",
       "17354   63  1.0      Normal     1.0    0.0         0.0          0.0         0   \n",
       "\n",
       "       smoker     region   NE   NW   SE   SW  expenses  \n",
       "3112        1  northwest  0.0  1.0  0.0  0.0  25678.78  \n",
       "11877       0  southeast  0.0  0.0  1.0  0.0   1719.44  \n",
       "17354       0  northeast  1.0  0.0  0.0  0.0  14449.85  "
      ]
     },
     "execution_count": 16,
     "metadata": {},
     "output_type": "execute_result"
    }
   ],
   "source": [
    "data.sample(3)"
   ]
  },
  {
   "cell_type": "markdown",
   "id": "1232cbd4",
   "metadata": {},
   "source": [
    "### Statistical Analysis"
   ]
  },
  {
   "cell_type": "code",
   "execution_count": 17,
   "id": "8be0bfd8",
   "metadata": {},
   "outputs": [
    {
     "name": "stdout",
     "output_type": "stream",
     "text": [
      "age\n",
      "Pearson Coefficient : 0.29672719905168704 \n",
      "P Value : 0.0 \n",
      "\n",
      "Spearman Coefficient : 0.5326230392750726 \n",
      "P Value : 0.0 \n",
      "\n",
      "\n",
      "sex\n",
      "F-Statistic=20981.842, p=0.000\n",
      "\n",
      "\n",
      "Normal\n",
      "F-Statistic=20982.888, p=0.000\n",
      "\n",
      "\n",
      "Obese\n",
      "F-Statistic=20981.742, p=0.000\n",
      "\n",
      "\n",
      "Overweight\n",
      "F-Statistic=20982.475, p=0.000\n",
      "\n",
      "\n",
      "Underweight\n",
      "F-Statistic=20983.356, p=0.000\n",
      "\n",
      "\n",
      "children\n",
      "F-Statistic=20979.937, p=0.000\n",
      "\n",
      "\n",
      "smoker\n",
      "F-Statistic=20982.757, p=0.000\n",
      "\n",
      "\n",
      "NE\n",
      "F-Statistic=20982.637, p=0.000\n",
      "\n",
      "\n",
      "NW\n",
      "F-Statistic=20982.637, p=0.000\n",
      "\n",
      "\n",
      "SE\n",
      "F-Statistic=20982.546, p=0.000\n",
      "\n",
      "\n",
      "SW\n",
      "F-Statistic=20982.641, p=0.000\n",
      "\n",
      "\n"
     ]
    }
   ],
   "source": [
    "for i in range(len(data.columns)-1):\n",
    "    if data.columns[i] in ['region', 'bmi_cat']:\n",
    "        continue\n",
    "        \n",
    "    print(data.columns[i])\n",
    "    \n",
    "    #for numerical-numerical\n",
    "    if data.columns[i] in ['age', 'bmi']:\n",
    "        \n",
    "        pearson_coef, p_val = stats.pearsonr(data[data.columns[i]], data['expenses'])\n",
    "        print('Pearson Coefficient :',pearson_coef,'\\nP Value :',p_val,'\\n')\n",
    "        \n",
    "        spearman_coef, p_val = stats.spearmanr(data[data.columns[i]], data['expenses'])\n",
    "        print('Spearman Coefficient :',spearman_coef,'\\nP Value :',p_val,'\\n\\n')\n",
    "        \n",
    "    #fot numerical-categorical    \n",
    "    else:\n",
    "        #one-way ANOVA\n",
    "        F, p = stats.f_oneway(data[data.columns[i]],data['expenses'])\n",
    "        print('F-Statistic=%.3f, p=%.3f\\n\\n' % (F, p))\n",
    "        "
   ]
  },
  {
   "cell_type": "code",
   "execution_count": 18,
   "id": "2084394c",
   "metadata": {},
   "outputs": [
    {
     "data": {
      "text/html": [
       "<div>\n",
       "<style scoped>\n",
       "    .dataframe tbody tr th:only-of-type {\n",
       "        vertical-align: middle;\n",
       "    }\n",
       "\n",
       "    .dataframe tbody tr th {\n",
       "        vertical-align: top;\n",
       "    }\n",
       "\n",
       "    .dataframe thead th {\n",
       "        text-align: right;\n",
       "    }\n",
       "</style>\n",
       "<table border=\"1\" class=\"dataframe\">\n",
       "  <thead>\n",
       "    <tr style=\"text-align: right;\">\n",
       "      <th></th>\n",
       "      <th>age</th>\n",
       "      <th>sex</th>\n",
       "      <th>Normal</th>\n",
       "      <th>Obese</th>\n",
       "      <th>Overweight</th>\n",
       "      <th>Underweight</th>\n",
       "      <th>children</th>\n",
       "      <th>smoker</th>\n",
       "      <th>NE</th>\n",
       "      <th>NW</th>\n",
       "      <th>SE</th>\n",
       "      <th>SW</th>\n",
       "      <th>expenses</th>\n",
       "    </tr>\n",
       "  </thead>\n",
       "  <tbody>\n",
       "    <tr>\n",
       "      <th>age</th>\n",
       "      <td>1.000000</td>\n",
       "      <td>0.027066</td>\n",
       "      <td>-0.089848</td>\n",
       "      <td>0.087029</td>\n",
       "      <td>-0.006595</td>\n",
       "      <td>-0.059573</td>\n",
       "      <td>0.041060</td>\n",
       "      <td>-0.034976</td>\n",
       "      <td>0.006292</td>\n",
       "      <td>-0.001799</td>\n",
       "      <td>-0.010406</td>\n",
       "      <td>0.006312</td>\n",
       "      <td>0.296727</td>\n",
       "    </tr>\n",
       "    <tr>\n",
       "      <th>sex</th>\n",
       "      <td>0.027066</td>\n",
       "      <td>1.000000</td>\n",
       "      <td>0.022621</td>\n",
       "      <td>-0.042797</td>\n",
       "      <td>0.022813</td>\n",
       "      <td>0.021470</td>\n",
       "      <td>-0.021204</td>\n",
       "      <td>-0.081456</td>\n",
       "      <td>0.002925</td>\n",
       "      <td>0.005332</td>\n",
       "      <td>-0.015394</td>\n",
       "      <td>0.007723</td>\n",
       "      <td>-0.057482</td>\n",
       "    </tr>\n",
       "    <tr>\n",
       "      <th>Normal</th>\n",
       "      <td>-0.089848</td>\n",
       "      <td>0.022621</td>\n",
       "      <td>1.000000</td>\n",
       "      <td>-0.466516</td>\n",
       "      <td>-0.285418</td>\n",
       "      <td>-0.054457</td>\n",
       "      <td>0.001900</td>\n",
       "      <td>0.008172</td>\n",
       "      <td>0.086690</td>\n",
       "      <td>0.024841</td>\n",
       "      <td>-0.088570</td>\n",
       "      <td>-0.019714</td>\n",
       "      <td>-0.114657</td>\n",
       "    </tr>\n",
       "    <tr>\n",
       "      <th>Obese</th>\n",
       "      <td>0.087029</td>\n",
       "      <td>-0.042797</td>\n",
       "      <td>-0.466516</td>\n",
       "      <td>1.000000</td>\n",
       "      <td>-0.682317</td>\n",
       "      <td>-0.130184</td>\n",
       "      <td>0.002777</td>\n",
       "      <td>0.008567</td>\n",
       "      <td>-0.091715</td>\n",
       "      <td>-0.082075</td>\n",
       "      <td>0.166504</td>\n",
       "      <td>0.001112</td>\n",
       "      <td>0.202323</td>\n",
       "    </tr>\n",
       "    <tr>\n",
       "      <th>Overweight</th>\n",
       "      <td>-0.006595</td>\n",
       "      <td>0.022813</td>\n",
       "      <td>-0.285418</td>\n",
       "      <td>-0.682317</td>\n",
       "      <td>1.000000</td>\n",
       "      <td>-0.079647</td>\n",
       "      <td>-0.001228</td>\n",
       "      <td>-0.018655</td>\n",
       "      <td>0.009472</td>\n",
       "      <td>0.060505</td>\n",
       "      <td>-0.090485</td>\n",
       "      <td>0.023910</td>\n",
       "      <td>-0.116326</td>\n",
       "    </tr>\n",
       "    <tr>\n",
       "      <th>Underweight</th>\n",
       "      <td>-0.059573</td>\n",
       "      <td>0.021470</td>\n",
       "      <td>-0.054457</td>\n",
       "      <td>-0.130184</td>\n",
       "      <td>-0.079647</td>\n",
       "      <td>1.000000</td>\n",
       "      <td>-0.012591</td>\n",
       "      <td>0.009927</td>\n",
       "      <td>0.077653</td>\n",
       "      <td>0.034715</td>\n",
       "      <td>-0.075323</td>\n",
       "      <td>-0.034317</td>\n",
       "      <td>-0.046180</td>\n",
       "    </tr>\n",
       "    <tr>\n",
       "      <th>children</th>\n",
       "      <td>0.041060</td>\n",
       "      <td>-0.021204</td>\n",
       "      <td>0.001900</td>\n",
       "      <td>0.002777</td>\n",
       "      <td>-0.001228</td>\n",
       "      <td>-0.012591</td>\n",
       "      <td>1.000000</td>\n",
       "      <td>0.004138</td>\n",
       "      <td>-0.026164</td>\n",
       "      <td>0.025526</td>\n",
       "      <td>-0.024577</td>\n",
       "      <td>0.026177</td>\n",
       "      <td>0.069631</td>\n",
       "    </tr>\n",
       "    <tr>\n",
       "      <th>smoker</th>\n",
       "      <td>-0.034976</td>\n",
       "      <td>-0.081456</td>\n",
       "      <td>0.008172</td>\n",
       "      <td>0.008567</td>\n",
       "      <td>-0.018655</td>\n",
       "      <td>0.009927</td>\n",
       "      <td>0.004138</td>\n",
       "      <td>1.000000</td>\n",
       "      <td>0.000546</td>\n",
       "      <td>-0.032236</td>\n",
       "      <td>0.065497</td>\n",
       "      <td>-0.036306</td>\n",
       "      <td>0.787966</td>\n",
       "    </tr>\n",
       "    <tr>\n",
       "      <th>NE</th>\n",
       "      <td>0.006292</td>\n",
       "      <td>0.002925</td>\n",
       "      <td>0.086690</td>\n",
       "      <td>-0.091715</td>\n",
       "      <td>0.009472</td>\n",
       "      <td>0.077653</td>\n",
       "      <td>-0.026164</td>\n",
       "      <td>0.000546</td>\n",
       "      <td>1.000000</td>\n",
       "      <td>-0.321309</td>\n",
       "      <td>-0.346352</td>\n",
       "      <td>-0.320108</td>\n",
       "      <td>0.006856</td>\n",
       "    </tr>\n",
       "    <tr>\n",
       "      <th>NW</th>\n",
       "      <td>-0.001799</td>\n",
       "      <td>0.005332</td>\n",
       "      <td>0.024841</td>\n",
       "      <td>-0.082075</td>\n",
       "      <td>0.060505</td>\n",
       "      <td>0.034715</td>\n",
       "      <td>0.025526</td>\n",
       "      <td>-0.032236</td>\n",
       "      <td>-0.321309</td>\n",
       "      <td>1.000000</td>\n",
       "      <td>-0.346352</td>\n",
       "      <td>-0.320108</td>\n",
       "      <td>-0.038614</td>\n",
       "    </tr>\n",
       "    <tr>\n",
       "      <th>SE</th>\n",
       "      <td>-0.010406</td>\n",
       "      <td>-0.015394</td>\n",
       "      <td>-0.088570</td>\n",
       "      <td>0.166504</td>\n",
       "      <td>-0.090485</td>\n",
       "      <td>-0.075323</td>\n",
       "      <td>-0.024577</td>\n",
       "      <td>0.065497</td>\n",
       "      <td>-0.346352</td>\n",
       "      <td>-0.346352</td>\n",
       "      <td>1.000000</td>\n",
       "      <td>-0.345057</td>\n",
       "      <td>0.071493</td>\n",
       "    </tr>\n",
       "    <tr>\n",
       "      <th>SW</th>\n",
       "      <td>0.006312</td>\n",
       "      <td>0.007723</td>\n",
       "      <td>-0.019714</td>\n",
       "      <td>0.001112</td>\n",
       "      <td>0.023910</td>\n",
       "      <td>-0.034317</td>\n",
       "      <td>0.026177</td>\n",
       "      <td>-0.036306</td>\n",
       "      <td>-0.320108</td>\n",
       "      <td>-0.320108</td>\n",
       "      <td>-0.345057</td>\n",
       "      <td>1.000000</td>\n",
       "      <td>-0.042469</td>\n",
       "    </tr>\n",
       "    <tr>\n",
       "      <th>expenses</th>\n",
       "      <td>0.296727</td>\n",
       "      <td>-0.057482</td>\n",
       "      <td>-0.114657</td>\n",
       "      <td>0.202323</td>\n",
       "      <td>-0.116326</td>\n",
       "      <td>-0.046180</td>\n",
       "      <td>0.069631</td>\n",
       "      <td>0.787966</td>\n",
       "      <td>0.006856</td>\n",
       "      <td>-0.038614</td>\n",
       "      <td>0.071493</td>\n",
       "      <td>-0.042469</td>\n",
       "      <td>1.000000</td>\n",
       "    </tr>\n",
       "  </tbody>\n",
       "</table>\n",
       "</div>"
      ],
      "text/plain": [
       "                  age       sex    Normal     Obese  Overweight  Underweight  \\\n",
       "age          1.000000  0.027066 -0.089848  0.087029   -0.006595    -0.059573   \n",
       "sex          0.027066  1.000000  0.022621 -0.042797    0.022813     0.021470   \n",
       "Normal      -0.089848  0.022621  1.000000 -0.466516   -0.285418    -0.054457   \n",
       "Obese        0.087029 -0.042797 -0.466516  1.000000   -0.682317    -0.130184   \n",
       "Overweight  -0.006595  0.022813 -0.285418 -0.682317    1.000000    -0.079647   \n",
       "Underweight -0.059573  0.021470 -0.054457 -0.130184   -0.079647     1.000000   \n",
       "children     0.041060 -0.021204  0.001900  0.002777   -0.001228    -0.012591   \n",
       "smoker      -0.034976 -0.081456  0.008172  0.008567   -0.018655     0.009927   \n",
       "NE           0.006292  0.002925  0.086690 -0.091715    0.009472     0.077653   \n",
       "NW          -0.001799  0.005332  0.024841 -0.082075    0.060505     0.034715   \n",
       "SE          -0.010406 -0.015394 -0.088570  0.166504   -0.090485    -0.075323   \n",
       "SW           0.006312  0.007723 -0.019714  0.001112    0.023910    -0.034317   \n",
       "expenses     0.296727 -0.057482 -0.114657  0.202323   -0.116326    -0.046180   \n",
       "\n",
       "             children    smoker        NE        NW        SE        SW  \\\n",
       "age          0.041060 -0.034976  0.006292 -0.001799 -0.010406  0.006312   \n",
       "sex         -0.021204 -0.081456  0.002925  0.005332 -0.015394  0.007723   \n",
       "Normal       0.001900  0.008172  0.086690  0.024841 -0.088570 -0.019714   \n",
       "Obese        0.002777  0.008567 -0.091715 -0.082075  0.166504  0.001112   \n",
       "Overweight  -0.001228 -0.018655  0.009472  0.060505 -0.090485  0.023910   \n",
       "Underweight -0.012591  0.009927  0.077653  0.034715 -0.075323 -0.034317   \n",
       "children     1.000000  0.004138 -0.026164  0.025526 -0.024577  0.026177   \n",
       "smoker       0.004138  1.000000  0.000546 -0.032236  0.065497 -0.036306   \n",
       "NE          -0.026164  0.000546  1.000000 -0.321309 -0.346352 -0.320108   \n",
       "NW           0.025526 -0.032236 -0.321309  1.000000 -0.346352 -0.320108   \n",
       "SE          -0.024577  0.065497 -0.346352 -0.346352  1.000000 -0.345057   \n",
       "SW           0.026177 -0.036306 -0.320108 -0.320108 -0.345057  1.000000   \n",
       "expenses     0.069631  0.787966  0.006856 -0.038614  0.071493 -0.042469   \n",
       "\n",
       "             expenses  \n",
       "age          0.296727  \n",
       "sex         -0.057482  \n",
       "Normal      -0.114657  \n",
       "Obese        0.202323  \n",
       "Overweight  -0.116326  \n",
       "Underweight -0.046180  \n",
       "children     0.069631  \n",
       "smoker       0.787966  \n",
       "NE           0.006856  \n",
       "NW          -0.038614  \n",
       "SE           0.071493  \n",
       "SW          -0.042469  \n",
       "expenses     1.000000  "
      ]
     },
     "execution_count": 18,
     "metadata": {},
     "output_type": "execute_result"
    }
   ],
   "source": [
    "data.corr()"
   ]
  },
  {
   "cell_type": "markdown",
   "id": "730ce0d9",
   "metadata": {},
   "source": [
    " "
   ]
  },
  {
   "cell_type": "markdown",
   "id": "d162d462",
   "metadata": {},
   "source": [
    "### Plot Features vs 'expenses'"
   ]
  },
  {
   "cell_type": "code",
   "execution_count": 19,
   "id": "21f3ef31",
   "metadata": {},
   "outputs": [],
   "source": [
    "def numerical(num):\n",
    "    sns.scatterplot(x=data[num], y = data['expenses'])\n",
    "    plt.xlabel(num)\n",
    "    plt.ylabel('Expenses')\n",
    "    plt.title('{n} vs Expenses'.format(n = num))\n",
    "    plt.show()"
   ]
  },
  {
   "cell_type": "code",
   "execution_count": 20,
   "id": "d4f4239a",
   "metadata": {},
   "outputs": [],
   "source": [
    " def categorical(depen_var):\n",
    "        fig, axes = plt.subplots(1, 2, sharex=True, figsize=(12,8))\n",
    "        fig.suptitle('{c} vs {n}'.format(c = depen_var.upper(), n = 'Expenses'))\n",
    "        \n",
    "        sns.boxplot(ax=axes[0], x = data[depen_var], y = data['expenses'])\n",
    "        axes[0].set_title('Boxplot')\n",
    "\n",
    "        sns.barplot(ax=axes[1],  x = data[depen_var], y = data['expenses'])\n",
    "        axes[1].set_title('Bar Chart')\n",
    "\n",
    "        plt.show()"
   ]
  },
  {
   "cell_type": "code",
   "execution_count": 21,
   "id": "5bbdb424",
   "metadata": {},
   "outputs": [
    {
     "data": {
      "image/png": "[encoded data removed]",
      "text/plain": [
       "<Figure size 432x288 with 1 Axes>"
      ]
     },
     "metadata": {
      "needs_background": "light"
     },
     "output_type": "display_data"
    },
    {
     "data": {
      "image/png": "[encoded data removed]",
      "text/plain": [
       "<Figure size 864x576 with 2 Axes>"
      ]
     },
     "metadata": {
      "needs_background": "light"
     },
     "output_type": "display_data"
    },
    {
     "data": {
      "image/png": "[encoded data removed]",
      "text/plain": [
       "<Figure size 864x576 with 2 Axes>"
      ]
     },
     "metadata": {
      "needs_background": "light"
     },
     "output_type": "display_data"
    },
    {
     "data": {
      "image/png": "[encoded data removed]",
      "text/plain": [
       "<Figure size 864x576 with 2 Axes>"
      ]
     },
     "metadata": {
      "needs_background": "light"
     },
     "output_type": "display_data"
    },
    {
     "data": {
      "image/png": "[encoded data removed]",
      "text/plain": [
       "<Figure size 864x576 with 2 Axes>"
      ]
     },
     "metadata": {
      "needs_background": "light"
     },
     "output_type": "display_data"
    },
    {
     "data": {
      "image/png": "[encoded data removed]",
      "text/plain": [
       "<Figure size 864x576 with 2 Axes>"
      ]
     },
     "metadata": {
      "needs_background": "light"
     },
     "output_type": "display_data"
    },
    {
     "data": {
      "image/png": "[encoded data removed]",
      "text/plain": [
       "<Figure size 864x576 with 2 Axes>"
      ]
     },
     "metadata": {
      "needs_background": "light"
     },
     "output_type": "display_data"
    },
    {
     "data": {
      "image/png": "[encoded data removed]",
      "text/plain": [
       "<Figure size 864x576 with 2 Axes>"
      ]
     },
     "metadata": {
      "needs_background": "light"
     },
     "output_type": "display_data"
    },
    {
     "data": {
      "image/png": "[encoded data removed]",
      "text/plain": [
       "<Figure size 864x576 with 2 Axes>"
      ]
     },
     "metadata": {
      "needs_background": "light"
     },
     "output_type": "display_data"
    },
    {
     "data": {
      "image/png": "[encoded data removed]",
      "text/plain": [
       "<Figure size 864x576 with 2 Axes>"
      ]
     },
     "metadata": {
      "needs_background": "light"
     },
     "output_type": "display_data"
    },
    {
     "data": {
      "image/png": "[encoded data removed]",
      "text/plain": [
       "<Figure size 864x576 with 2 Axes>"
      ]
     },
     "metadata": {
      "needs_background": "light"
     },
     "output_type": "display_data"
    },
    {
     "data": {
      "image/png": "[encoded data removed]",
      "text/plain": [
       "<Figure size 864x576 with 2 Axes>"
      ]
     },
     "metadata": {
      "needs_background": "light"
     },
     "output_type": "display_data"
    },
    {
     "data": {
      "image/png": "[encoded data removed]",
      "text/plain": [
       "<Figure size 864x576 with 2 Axes>"
      ]
     },
     "metadata": {
      "needs_background": "light"
     },
     "output_type": "display_data"
    },
    {
     "data": {
      "image/png": "[encoded data removed]",
      "text/plain": [
       "<Figure size 864x576 with 2 Axes>"
      ]
     },
     "metadata": {
      "needs_background": "light"
     },
     "output_type": "display_data"
    }
   ],
   "source": [
    "for feature in data.columns:\n",
    "    if feature == 'expenses':\n",
    "        continue\n",
    "    elif feature in ['age', 'bmi']:\n",
    "        numerical(feature)\n",
    "    else:\n",
    "        categorical(feature)"
   ]
  },
  {
   "cell_type": "code",
   "execution_count": 22,
   "id": "92a25a85",
   "metadata": {},
   "outputs": [],
   "source": [
    "data.drop(columns = ['region', 'bmi_cat'], inplace=True)"
   ]
  },
  {
   "cell_type": "markdown",
   "id": "1602f1f5",
   "metadata": {},
   "source": [
    "### Data Standardization"
   ]
  },
  {
   "cell_type": "code",
   "execution_count": 23,
   "id": "6cda0f91",
   "metadata": {},
   "outputs": [],
   "source": [
    "scaler = RobustScaler()\n",
    "\n",
    "data[['age', 'children', 'expenses']] = scaler.fit_transform(data[['age', 'children', 'expenses']])"
   ]
  },
  {
   "cell_type": "markdown",
   "id": "ad03a084",
   "metadata": {},
   "source": [
    " "
   ]
  },
  {
   "cell_type": "markdown",
   "id": "3a440f99",
   "metadata": {},
   "source": [
    "## Model Building"
   ]
  },
  {
   "cell_type": "markdown",
   "id": "d2c66cf8",
   "metadata": {},
   "source": [
    "### train_test_split"
   ]
  },
  {
   "cell_type": "code",
   "execution_count": 24,
   "id": "1534004a",
   "metadata": {},
   "outputs": [],
   "source": [
    "y_data = data['expenses']\n",
    "x_data = data.iloc[:,:12]"
   ]
  },
  {
   "cell_type": "code",
   "execution_count": 25,
   "id": "32858f2d",
   "metadata": {},
   "outputs": [],
   "source": [
    "x_train, x_test, y_train, y_test = train_test_split(x_data, y_data, test_size=0.15)"
   ]
  },
  {
   "cell_type": "markdown",
   "id": "d81a9722",
   "metadata": {},
   "source": [
    "### Multiple Linear Regression"
   ]
  },
  {
   "cell_type": "code",
   "execution_count": 26,
   "id": "1e4343e1",
   "metadata": {},
   "outputs": [],
   "source": [
    "#regression object\n",
    "mlr = LinearRegression()\n",
    "\n",
    "#training the model\n",
    "mlr.fit(x_train, y_train)\n",
    "\n",
    "#predict values\n",
    "pred_mlr = mlr.predict(x_test)"
   ]
  },
  {
   "cell_type": "markdown",
   "id": "922b0e39",
   "metadata": {},
   "source": [
    " "
   ]
  },
  {
   "cell_type": "markdown",
   "id": "30f128dc",
   "metadata": {},
   "source": [
    "### Polynomial Regression"
   ]
  },
  {
   "cell_type": "code",
   "execution_count": 27,
   "id": "258fbfdd",
   "metadata": {},
   "outputs": [],
   "source": [
    "poly_reg = PolynomialFeatures(degree=2)\n",
    "x_poly_data  = poly_reg.fit_transform(x_data)\n",
    "x_poly_train, x_poly_test = train_test_split(x_poly_data, test_size = 0.15)\n",
    "\n",
    "\n",
    "lin_reg2 = LinearRegression()\n",
    "lin_reg2.fit(x_poly_train,y_train)\n",
    " \n",
    "pred_poly = lin_reg2.predict(x_poly_test)"
   ]
  },
  {
   "cell_type": "markdown",
   "id": "5ffd49f6",
   "metadata": {},
   "source": [
    " "
   ]
  },
  {
   "cell_type": "markdown",
   "id": "35527147",
   "metadata": {},
   "source": [
    "### Ridge Regression"
   ]
  },
  {
   "cell_type": "code",
   "execution_count": 28,
   "id": "332078bf",
   "metadata": {},
   "outputs": [],
   "source": [
    "RR = Ridge(alpha=0.01)\n",
    "\n",
    "RR.fit(x_poly_train, y_train)\n",
    "\n",
    "yhat_ridge = RR.predict(x_poly_test)"
   ]
  },
  {
   "cell_type": "markdown",
   "id": "34476a66",
   "metadata": {},
   "source": [
    " #### tune hyperparameters (alpha) for Ridge Regression\n"
   ]
  },
  {
   "cell_type": "code",
   "execution_count": 29,
   "id": "c732885b",
   "metadata": {},
   "outputs": [],
   "source": [
    "cv = RepeatedKFold(n_splits=10, n_repeats=3, random_state=1)"
   ]
  },
  {
   "cell_type": "code",
   "execution_count": 30,
   "id": "0e8b812a",
   "metadata": {},
   "outputs": [
    {
     "name": "stdout",
     "output_type": "stream",
     "text": [
      "Best Estimate for Hyper Parameter Tuning :  Ridge(alpha=0.01)\n"
     ]
    },
    {
     "data": {
      "text/plain": [
       "0"
      ]
     },
     "execution_count": 30,
     "metadata": {},
     "output_type": "execute_result"
    }
   ],
   "source": [
    "grid = dict()\n",
    "grid['alpha'] = [0.01, 0.03, 0.1, 0.3, 1]\n",
    "search = GridSearchCV(RR, grid, scoring='neg_mean_absolute_error', cv=cv, n_jobs=-1)\n",
    "results=search.fit(x_data, y_data)\n",
    "print('Best Estimate for Hyper Parameter Tuning : ', str(results.best_estimator_))\n",
    "\n",
    "best_alpha_str = str(results.best_estimator_)\n",
    "best_alpha = int(re.findall('\\d', best_alpha_str)[0])\n",
    "best_alpha"
   ]
  },
  {
   "cell_type": "code",
   "execution_count": 31,
   "id": "3c99cc94",
   "metadata": {},
   "outputs": [],
   "source": [
    "#final Ridge Regression model:\n",
    "\n",
    "RR = Ridge(alpha = best_alpha)\n",
    "RR.fit(x_poly_train, y_train)\n",
    "pred_ridge = RR.predict(x_poly_test)"
   ]
  },
  {
   "cell_type": "markdown",
   "id": "1fa3acfc",
   "metadata": {},
   "source": [
    "### Decision Tree Regressor"
   ]
  },
  {
   "cell_type": "code",
   "execution_count": 32,
   "id": "3d08c9d4",
   "metadata": {},
   "outputs": [],
   "source": [
    "from sklearn.tree import DecisionTreeRegressor"
   ]
  },
  {
   "cell_type": "code",
   "execution_count": 33,
   "id": "e65809db",
   "metadata": {},
   "outputs": [],
   "source": [
    "dec_tree_reg = DecisionTreeRegressor(max_depth=5, random_state=13)  \n",
    "dec_tree_reg.fit(x_train, y_train) \n",
    "pred_dec_tree = dec_tree_reg.predict(x_test)"
   ]
  },
  {
   "cell_type": "markdown",
   "id": "06ed291a",
   "metadata": {},
   "source": [
    "### Random Forest Regressor"
   ]
  },
  {
   "cell_type": "code",
   "execution_count": 34,
   "id": "a051d23d",
   "metadata": {},
   "outputs": [],
   "source": [
    "from sklearn.ensemble import RandomForestRegressor"
   ]
  },
  {
   "cell_type": "code",
   "execution_count": 35,
   "id": "3b1ce08a",
   "metadata": {},
   "outputs": [],
   "source": [
    "rand_forr_reg = RandomForestRegressor(n_estimators=400, max_depth=5, random_state=13)  \n",
    "rand_forr_reg.fit(x_train, y_train)\n",
    "pred_rand_forr = rand_forr_reg.predict(x_test)"
   ]
  },
  {
   "cell_type": "markdown",
   "id": "8ca165c2",
   "metadata": {},
   "source": [
    " "
   ]
  },
  {
   "cell_type": "markdown",
   "id": "a9428664",
   "metadata": {},
   "source": [
    "## Evaluation Metrics"
   ]
  },
  {
   "cell_type": "code",
   "execution_count": 36,
   "id": "6bf5a3f1",
   "metadata": {},
   "outputs": [],
   "source": [
    "def evaluate(estimator, pred_val):\n",
    "    if estimator == lin_reg2:\n",
    "        x = PolynomialFeatures(degree=2).fit_transform(x_data)\n",
    "    else:\n",
    "        x = x_data\n",
    "    r2 = r2_score(y_test, pred_val)\n",
    "    rmse = np.sqrt(mean_squared_error(y_test, pred_val))\n",
    "    score = cross_val_score(estimator, x, y_data, cv=4).mean()\n",
    "    return r2, rmse, score"
   ]
  },
  {
   "cell_type": "markdown",
   "id": "534c4400",
   "metadata": {},
   "source": [
    " "
   ]
  },
  {
   "cell_type": "code",
   "execution_count": 37,
   "id": "22599135",
   "metadata": {},
   "outputs": [
    {
     "name": "stdout",
     "output_type": "stream",
     "text": [
      "0.7586106660931582 0.5067680689385282 0.7580489850172041\n"
     ]
    }
   ],
   "source": [
    "#Linear Regression\n",
    "mlr_r2, mlr_rmse, mlr_cvscore = evaluate(mlr, pred_mlr)\n",
    "print(mlr_r2, mlr_rmse, mlr_cvscore)"
   ]
  },
  {
   "cell_type": "code",
   "execution_count": 38,
   "id": "4760dbdb",
   "metadata": {},
   "outputs": [
    {
     "name": "stdout",
     "output_type": "stream",
     "text": [
      "-0.004805503955787049 1.0339301671728685 0.8710948320283991\n"
     ]
    }
   ],
   "source": [
    "#Polynomial Regression\n",
    "poly_r2, poly_rmse, poly_cvscore = evaluate(lin_reg2, pred_poly)\n",
    "print(poly_r2, poly_rmse, poly_cvscore)"
   ]
  },
  {
   "cell_type": "code",
   "execution_count": 39,
   "id": "ee4b25f7",
   "metadata": {},
   "outputs": [
    {
     "name": "stdout",
     "output_type": "stream",
     "text": [
      "-0.038904193528781494 1.0513273291406078 0.7581614390979416\n"
     ]
    }
   ],
   "source": [
    "#Ridge Regression\n",
    "ridge_r2, ridge_rmse, ridge_cvscore = evaluate(RR, pred_ridge)\n",
    "print(ridge_r2, ridge_rmse, ridge_cvscore)"
   ]
  },
  {
   "cell_type": "code",
   "execution_count": 40,
   "id": "4e901a6b",
   "metadata": {},
   "outputs": [
    {
     "name": "stdout",
     "output_type": "stream",
     "text": [
      "0.8762659596941561 0.36282299290124004 0.8771003706082887\n"
     ]
    }
   ],
   "source": [
    "#Decision Tree Regressor\n",
    "dec_tree_r2, dec_tree_rmse, dec_tree_cvscore = evaluate(dec_tree_reg, pred_dec_tree)\n",
    "print(dec_tree_r2, dec_tree_rmse, dec_tree_cvscore)"
   ]
  },
  {
   "cell_type": "code",
   "execution_count": 41,
   "id": "6a2e796c",
   "metadata": {},
   "outputs": [
    {
     "name": "stdout",
     "output_type": "stream",
     "text": [
      "0.8820973807326271 0.35417013009549575 0.8824285060022966\n"
     ]
    }
   ],
   "source": [
    "#Random Forest Regressor\n",
    "ran_r2, ran_rmse, ran_cvscore = evaluate(rand_forr_reg, pred_rand_forr)\n",
    "print(ran_r2, ran_rmse, ran_cvscore)"
   ]
  },
  {
   "cell_type": "markdown",
   "id": "65c19287",
   "metadata": {},
   "source": [
    " "
   ]
  },
  {
   "cell_type": "markdown",
   "id": "5c7c95c6",
   "metadata": {},
   "source": [
    "### Comparing Model perfomances"
   ]
  },
  {
   "cell_type": "code",
   "execution_count": 42,
   "id": "d0b31583",
   "metadata": {},
   "outputs": [],
   "source": [
    "r2_scores = [mlr_r2, poly_r2, ridge_r2, dec_tree_r2, ran_r2]\n",
    "rmse_scores = [mlr_rmse, poly_rmse, ridge_rmse, dec_tree_rmse, ran_rmse]\n",
    "cross_val_scores  = [mlr_cvscore, poly_cvscore, ridge_cvscore, dec_tree_cvscore, ran_cvscore]"
   ]
  },
  {
   "cell_type": "code",
   "execution_count": 43,
   "id": "a597cad7",
   "metadata": {},
   "outputs": [],
   "source": [
    "models_comparison = pd.DataFrame([r2_scores, rmse_scores, cross_val_scores], \n",
    "                                 columns = ['Multiple Linear Regression', 'Polynomial Regression', 'Ridge Regression', \n",
    "                                          'Decision Tree Regressor', 'Random Forest Regressor'],\n",
    "                                 index = ['R2 score', 'RMSE score', 'Cross Validation Score'])"
   ]
  },
  {
   "cell_type": "code",
   "execution_count": 44,
   "id": "106e4e4c",
   "metadata": {},
   "outputs": [
    {
     "data": {
      "text/html": [
       "<div>\n",
       "<style scoped>\n",
       "    .dataframe tbody tr th:only-of-type {\n",
       "        vertical-align: middle;\n",
       "    }\n",
       "\n",
       "    .dataframe tbody tr th {\n",
       "        vertical-align: top;\n",
       "    }\n",
       "\n",
       "    .dataframe thead th {\n",
       "        text-align: right;\n",
       "    }\n",
       "</style>\n",
       "<table border=\"1\" class=\"dataframe\">\n",
       "  <thead>\n",
       "    <tr style=\"text-align: right;\">\n",
       "      <th></th>\n",
       "      <th>Multiple Linear Regression</th>\n",
       "      <th>Polynomial Regression</th>\n",
       "      <th>Ridge Regression</th>\n",
       "      <th>Decision Tree Regressor</th>\n",
       "      <th>Random Forest Regressor</th>\n",
       "    </tr>\n",
       "  </thead>\n",
       "  <tbody>\n",
       "    <tr>\n",
       "      <th>R2 score</th>\n",
       "      <td>0.758611</td>\n",
       "      <td>-0.004806</td>\n",
       "      <td>-0.038904</td>\n",
       "      <td>0.876266</td>\n",
       "      <td>0.882097</td>\n",
       "    </tr>\n",
       "    <tr>\n",
       "      <th>RMSE score</th>\n",
       "      <td>0.506768</td>\n",
       "      <td>1.033930</td>\n",
       "      <td>1.051327</td>\n",
       "      <td>0.362823</td>\n",
       "      <td>0.354170</td>\n",
       "    </tr>\n",
       "    <tr>\n",
       "      <th>Cross Validation Score</th>\n",
       "      <td>0.758049</td>\n",
       "      <td>0.871095</td>\n",
       "      <td>0.758161</td>\n",
       "      <td>0.877100</td>\n",
       "      <td>0.882429</td>\n",
       "    </tr>\n",
       "  </tbody>\n",
       "</table>\n",
       "</div>"
      ],
      "text/plain": [
       "                        Multiple Linear Regression  Polynomial Regression  \\\n",
       "R2 score                                  0.758611              -0.004806   \n",
       "RMSE score                                0.506768               1.033930   \n",
       "Cross Validation Score                    0.758049               0.871095   \n",
       "\n",
       "                        Ridge Regression  Decision Tree Regressor  \\\n",
       "R2 score                       -0.038904                 0.876266   \n",
       "RMSE score                      1.051327                 0.362823   \n",
       "Cross Validation Score          0.758161                 0.877100   \n",
       "\n",
       "                        Random Forest Regressor  \n",
       "R2 score                               0.882097  \n",
       "RMSE score                             0.354170  \n",
       "Cross Validation Score                 0.882429  "
      ]
     },
     "execution_count": 44,
     "metadata": {},
     "output_type": "execute_result"
    }
   ],
   "source": [
    "models_comparison"
   ]
  },
  {
   "cell_type": "markdown",
   "id": "af63c27a",
   "metadata": {},
   "source": [
    " "
   ]
  },
  {
   "cell_type": "markdown",
   "id": "b8b466b0",
   "metadata": {},
   "source": [
    " #### Decision Tree Regressor and Random Forest Regressor fits to the model the best "
   ]
  },
  {
   "cell_type": "code",
   "execution_count": 45,
   "id": "686466b7",
   "metadata": {},
   "outputs": [
    {
     "data": {
      "text/plain": [
       "DecisionTreeRegressor(max_depth=5, random_state=13)"
      ]
     },
     "execution_count": 45,
     "metadata": {},
     "output_type": "execute_result"
    }
   ],
   "source": [
    "#training the model with all data available\n",
    "rand_forr_reg.fit(x_data, y_data)\n",
    "dec_tree_reg.fit(x_data, y_data)"
   ]
  },
  {
   "cell_type": "markdown",
   "id": "3d37f22f",
   "metadata": {},
   "source": [
    " \n",
    " "
   ]
  },
  {
   "cell_type": "markdown",
   "id": "ae52fe4b",
   "metadata": {},
   "source": [
    "## Overfitting/Underfitting"
   ]
  },
  {
   "cell_type": "code",
   "execution_count": 46,
   "id": "b995005c",
   "metadata": {},
   "outputs": [],
   "source": [
    "y_pred = rand_forr_reg.predict(x_data)\n",
    "y_pred2 = dec_tree_reg.predict(x_data)"
   ]
  },
  {
   "cell_type": "markdown",
   "id": "b27a09d5",
   "metadata": {},
   "source": [
    "#### Residual Plot and Scatterplot"
   ]
  },
  {
   "cell_type": "code",
   "execution_count": 47,
   "id": "0241e26e",
   "metadata": {},
   "outputs": [],
   "source": [
    "def evaluate_model_vis(sns_fun):\n",
    "    fig, axes = plt.subplots(1,2, figsize=(10,5))\n",
    "    #fig.title('Decision Tree Regression vs Random Forest Regression perfomance')\n",
    "    \n",
    "    sns_fun(ax=axes[0], x=y_pred, y=y_data)\n",
    "    axes[0].set_title('Decision Tree Regressor')\n",
    "    plt.xlabel('predicted values')\n",
    "    plt.ylabel('actual values')\n",
    "    \n",
    "    sns_fun(ax=axes[1], x=y_pred2, y=y_data)\n",
    "    axes[1].set_title('Random Forest Regressor')\n",
    "    plt.xlabel('predicted values')\n",
    "    plt.ylabel('actual values')\n",
    "    \n",
    "    plt.show()"
   ]
  },
  {
   "cell_type": "code",
   "execution_count": 48,
   "id": "65c5a67f",
   "metadata": {},
   "outputs": [
    {
     "data": {
      "image/png": "[encoded data removed]",
      "text/plain": [
       "<Figure size 720x360 with 2 Axes>"
      ]
     },
     "metadata": {
      "needs_background": "light"
     },
     "output_type": "display_data"
    }
   ],
   "source": [
    "evaluate_model_vis(sns.residplot)"
   ]
  },
  {
   "cell_type": "code",
   "execution_count": 49,
   "id": "76bc6276",
   "metadata": {},
   "outputs": [
    {
     "data": {
      "image/png": "[encoded data removed]",
      "text/plain": [
       "<Figure size 720x360 with 2 Axes>"
      ]
     },
     "metadata": {
      "needs_background": "light"
     },
     "output_type": "display_data"
    }
   ],
   "source": [
    "evaluate_model_vis(sns.scatterplot)"
   ]
  },
  {
   "cell_type": "markdown",
   "id": "d5386eaf",
   "metadata": {},
   "source": [
    "#### histogram"
   ]
  },
  {
   "cell_type": "code",
   "execution_count": 50,
   "id": "f9f975f8",
   "metadata": {},
   "outputs": [
    {
     "data": {
      "image/png": "[encoded data removed]",
      "text/plain": [
       "<Figure size 432x288 with 1 Axes>"
      ]
     },
     "metadata": {
      "needs_background": "light"
     },
     "output_type": "display_data"
    },
    {
     "data": {
      "image/png": "[encoded data removed]",
      "text/plain": [
       "<Figure size 432x288 with 1 Axes>"
      ]
     },
     "metadata": {
      "needs_background": "light"
     },
     "output_type": "display_data"
    }
   ],
   "source": [
    "a1= sns.histplot(y_data, color = 'palegreen')\n",
    "a2= sns.histplot(y_pred,   color = 'peachpuff', ax=a1)\n",
    "plt.title('Decision Tree Regression')\n",
    "plt.show()\n",
    "\n",
    "a1= sns.histplot(y_data, color = 'palegreen')\n",
    "a2= sns.histplot(y_pred2,   color = 'peachpuff', ax=a1)\n",
    "plt.title('Random Forest Regressor')\n",
    "plt.show()"
   ]
  },
  {
   "cell_type": "markdown",
   "id": "306cba1d",
   "metadata": {},
   "source": [
    "the underfitting is due to noise in data.<br><br>\n",
    "It seems that Random Forest Regressor fits the data best and so, we will use <b>Random Forest Regressor </b>for our application\n"
   ]
  },
  {
   "cell_type": "markdown",
   "id": "4a21fd14",
   "metadata": {},
   "source": [
    " "
   ]
  },
  {
   "cell_type": "markdown",
   "id": "b33693ff",
   "metadata": {},
   "source": [
    "### final model"
   ]
  },
  {
   "cell_type": "code",
   "execution_count": 51,
   "id": "4c921ed0",
   "metadata": {},
   "outputs": [
    {
     "data": {
      "text/plain": [
       "RandomForestRegressor(max_depth=5, n_estimators=400, random_state=13)"
      ]
     },
     "execution_count": 51,
     "metadata": {},
     "output_type": "execute_result"
    }
   ],
   "source": [
    "rand_forr_reg.fit(x_data, y_data)"
   ]
  },
  {
   "cell_type": "markdown",
   "id": "64a6b657",
   "metadata": {},
   "source": [
    " "
   ]
  },
  {
   "cell_type": "markdown",
   "id": "34a8f316",
   "metadata": {},
   "source": [
    "## Model Serialization"
   ]
  },
  {
   "cell_type": "code",
   "execution_count": 52,
   "id": "6eef8557",
   "metadata": {},
   "outputs": [],
   "source": [
    "# Save the Modle to file in the current working directory\n",
    "\n",
    "Pkl_Filename = \"insurance_premium_prediction_model.pkl\"  \n",
    "with open(Pkl_Filename, 'wb') as file:  \n",
    "    pickle.dump(rand_forr_reg, file)"
   ]
  },
  {
   "cell_type": "code",
   "execution_count": 53,
   "id": "09a0ed74",
   "metadata": {},
   "outputs": [],
   "source": [
    "# Load the Model back from file\n",
    "with open('insurance_premium_prediction_model.pkl', 'rb') as file:  \n",
    "    model = pickle.load(file)\n",
    "\n",
    "#use model.predict(vec) for predicting values"
   ]
  },
  {
   "cell_type": "markdown",
   "id": "8abfe650",
   "metadata": {},
   "source": [
    " "
   ]
  },
  {
   "cell_type": "markdown",
   "id": "172f0488",
   "metadata": {},
   "source": [
    "## Deploy"
   ]
  }
 ],
 "metadata": {
  "kernelspec": {
   "display_name": "Python 3",
   "language": "python",
   "name": "python3"
  },
  "language_info": {
   "codemirror_mode": {
    "name": "ipython",
    "version": 3
   },
   "file_extension": ".py",
   "mimetype": "text/x-python",
   "name": "python",
   "nbconvert_exporter": "python",
   "pygments_lexer": "ipython3",
   "version": "3.8.8"
  }
 },
 "nbformat": 4,
 "nbformat_minor": 5
}
